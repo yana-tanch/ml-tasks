{
  "cells": [
    {
      "cell_type": "code",
      "execution_count": null,
      "metadata": {
        "collapsed": true,
        "id": "d8CmJ8px4QqZ"
      },
      "outputs": [],
      "source": [
        "import random\n",
        "import numpy as np\n",
        "import pickle\n",
        "import matplotlib.pyplot as plt\n",
        "from sklearn.neighbors import KNeighborsClassifier\n",
        "from sklearn.svm import SVC\n",
        "from sklearn.metrics import plot_confusion_matrix\n",
        "from sklearn.model_selection import GridSearchCV\n",
        "from sklearn.model_selection import train_test_split\n",
        "from sklearn.preprocessing import StandardScaler\n",
        "\n",
        "%matplotlib inline"
      ]
    },
    {
      "cell_type": "code",
      "source": [
        "from google.colab import drive\n",
        "drive.mount('/content/drive')"
      ],
      "metadata": {
        "colab": {
          "base_uri": "https://localhost:8080/"
        },
        "id": "Z_8aGRD6g0e9",
        "outputId": "d7f8afee-31ce-43ab-dc37-1509cf4dc7bf"
      },
      "execution_count": null,
      "outputs": [
        {
          "output_type": "stream",
          "name": "stdout",
          "text": [
            "Drive already mounted at /content/drive; to attempt to forcibly remount, call drive.mount(\"/content/drive\", force_remount=True).\n"
          ]
        }
      ]
    },
    {
      "cell_type": "code",
      "execution_count": null,
      "outputs": [],
      "source": [
        "def set_seed(seed):\n",
        "    random.seed(seed)\n",
        "    np.random.seed(seed)\n",
        "\n",
        "seed = 15102022\n",
        "set_seed(seed)"
      ],
      "metadata": {
        "id": "0DT9kFFV4Qqc"
      }
    },
    {
      "cell_type": "markdown",
      "source": [
        "## Read data"
      ],
      "metadata": {
        "id": "QwcPW8yx4qqD"
      }
    },
    {
      "cell_type": "code",
      "execution_count": null,
      "outputs": [],
      "source": [
        "def read_data(file):\n",
        "    with open(file, 'rb') as fp:\n",
        "        data = pickle.load(fp)\n",
        "\n",
        "    images = data.images\n",
        "    targets = data.target\n",
        "    target_names = data.target_names\n",
        "\n",
        "    return images, targets, target_names\n",
        "\n",
        "images, targets, target_names = read_data('/content/drive/MyDrive/Colab_Notebooks/ml_tasks/data/data.p')\n"
      ],
      "metadata": {
        "id": "RywnNu2k4Qqe"
      }
    },
    {
      "cell_type": "markdown",
      "source": [
        "## Data analysis"
      ],
      "metadata": {
        "id": "qbNJYV8h8T66"
      }
    },
    {
      "cell_type": "code",
      "execution_count": null,
      "outputs": [
        {
          "output_type": "stream",
          "name": "stdout",
          "text": [
            "label: 0, num:  77, name: Ariel Sharon\n",
            "label: 1, num: 236, name: Colin Powell\n",
            "label: 2, num: 121, name: Donald Rumsfeld\n",
            "label: 3, num: 530, name: George W Bush\n",
            "label: 4, num: 109, name: Gerhard Schroeder\n",
            "label: 5, num:  71, name: Hugo Chavez\n",
            "label: 6, num:  60, name: Junichiro Koizumi\n",
            "label: 7, num: 144, name: Tony Blair\n"
          ]
        }
      ],
      "source": [
        "def get_stats(targets, target_names):\n",
        "    labels = np.unique(targets)\n",
        "\n",
        "    stats = []\n",
        "\n",
        "    for label in labels:\n",
        "        num_objects = (targets == label).sum()\n",
        "        stats.append((label, target_names[label], num_objects))\n",
        "\n",
        "    return stats\n",
        "\n",
        "stats = get_stats(targets, target_names)\n",
        "num_classes = len(stats)\n",
        "\n",
        "for s in stats:\n",
        "    print(f'label: {s[0]}, num: {s[2]:3d}, name: {s[1]}')"
      ],
      "metadata": {
        "id": "xO2HisKY4Qqf",
        "outputId": "780cd99b-acdd-417e-aa92-285b64f73619",
        "colab": {
          "base_uri": "https://localhost:8080/"
        }
      }
    },
    {
      "cell_type": "markdown",
      "source": [
        "## Split by train and test\n"
      ],
      "metadata": {
        "id": "1UGLSvHKdyJ2"
      }
    },
    {
      "cell_type": "code",
      "execution_count": null,
      "outputs": [],
      "source": [
        "N, H, W = images.shape\n",
        "features = images.reshape((N, H * W))\n",
        "\n",
        "X = features\n",
        "y = targets\n",
        "\n",
        "X_train, X_test, y_train, y_test = train_test_split(X, y, test_size=0.5, random_state=seed)\n"
      ],
      "metadata": {
        "id": "5dO47nno4Qqh"
      }
    },
    {
      "cell_type": "markdown",
      "source": [
        "## Calculation of confusion matrix and f1-score"
      ],
      "metadata": {
        "id": "9cJX40KEfSti"
      }
    },
    {
      "cell_type": "code",
      "source": [
        "def calc_confusion_matrix(targets, predictions, num_classes):\n",
        "    conf_mat = np.zeros((num_classes, num_classes), dtype=int)\n",
        "\n",
        "    for n, t in enumerate(targets):\n",
        "        conf_mat[t, predictions[n]] += 1\n",
        "\n",
        "    return conf_mat\n",
        "\n",
        "def calc_f1_macro(conf_mat):\n",
        "    tp = conf_mat.diagonal()\n",
        "\n",
        "    fp = conf_mat.sum(axis=0) - conf_mat.diagonal()\n",
        "    fn = conf_mat.sum(axis=1) - conf_mat.diagonal()\n",
        "\n",
        "    eps = 1e-6\n",
        "\n",
        "    ppv = tp / (tp + fp + eps)\n",
        "    tpr = tp / (tp + fn + eps)\n",
        "\n",
        "    f1 = 2 * tpr * ppv / (tpr + ppv + eps)\n",
        "    f1_macro = f1.mean()\n",
        "\n",
        "    return f1_macro * 100\n",
        "\n",
        "def train(model, X, y, num_classes):\n",
        "    model.fit(X, y)\n",
        "    y_pred = model.predict(X)\n",
        "    conf_mat = calc_confusion_matrix(y, y_pred, num_classes)\n",
        "    f1_score = calc_f1_macro(conf_mat)\n",
        "\n",
        "    return model, f1_score\n",
        "\n",
        "def test(model, X, y, num_classes):\n",
        "    y_pred = model.predict(X)\n",
        "    conf_mat = calc_confusion_matrix(y, y_pred, num_classes)\n",
        "    f1_score = calc_f1_macro(conf_mat)\n",
        "\n",
        "    return f1_score"
      ],
      "metadata": {
        "id": "VmpBj2-DfT-3"
      },
      "execution_count": null,
      "outputs": []
    },
    {
      "cell_type": "markdown",
      "source": [
        "## Data normalization"
      ],
      "metadata": {
        "id": "2Jtrer2ph00q"
      }
    },
    {
      "cell_type": "code",
      "source": [
        "scaler = StandardScaler()\n",
        "X_train = scaler.fit_transform(X_train) \n",
        "X_test = scaler.transform(X_test) "
      ],
      "metadata": {
        "id": "_4zYpexYhxFC"
      },
      "execution_count": null,
      "outputs": []
    },
    {
      "cell_type": "markdown",
      "source": [
        "## Upsampling method"
      ],
      "metadata": {
        "id": "2TbO4Ab3nuDK"
      }
    },
    {
      "cell_type": "code",
      "source": [
        "def upsample(features, targets, max_objects_in_class=None):\n",
        "    N = len(targets)\n",
        "    labels = np.unique(targets)\n",
        "\n",
        "    data = np.concatenate([targets.reshape((N, 1)), features], axis=1)\n",
        "    np.random.shuffle(data)\n",
        "\n",
        "    train_data = []\n",
        "\n",
        "    for label in labels:\n",
        "        mask = (data[:, 0] == label)\n",
        "        class_data = data[mask]\n",
        "\n",
        "        if max_objects_in_class is not None:\n",
        "            num = len(class_data)\n",
        "            num_to_add = max(max_objects_in_class - num, 0)\n",
        "\n",
        "            if num_to_add == 0:\n",
        "                class_data = class_data[:max_objects_in_class]\n",
        "            else:\n",
        "                indexes = np.arange(num)\n",
        "                upsample = np.random.choice(indexes, num_to_add)\n",
        "                class_data = np.vstack((class_data, class_data[upsample]))\n",
        "\n",
        "        train_data.append(class_data)\n",
        "\n",
        "    train_data = np.vstack(train_data)\n",
        "\n",
        "    X_train = train_data[:, 1:]\n",
        "    y_train = train_data[:, 0].astype(int)\n",
        "\n",
        " \n",
        "    return X_train, y_train\n",
        "\n",
        "\n",
        "X_train, y_train = upsample(X_train, y_train, max_objects_in_class=530)\n"
      ],
      "metadata": {
        "id": "yNqZNDuantR5"
      },
      "execution_count": null,
      "outputs": []
    },
    {
      "cell_type": "markdown",
      "source": [
        "## KNN without upsampling"
      ],
      "metadata": {
        "id": "lObzBmRrf-ml"
      }
    },
    {
      "cell_type": "code",
      "source": [
        "\n",
        "knn_model = KNeighborsClassifier()\n",
        "\n",
        "grid_search = GridSearchCV(estimator = knn_model,  \n",
        "                           param_grid = [{'n_neighbors': [1, 2, 4, 8, 16, 32]}],\n",
        "                           scoring = 'f1_macro',\n",
        "                           cv = 3,\n",
        "                           verbose=0)\n",
        "\n",
        "\n",
        "grid_search.fit(X_train, y_train)\n",
        "\n",
        "print(grid_search.best_params_)\n"
      ],
      "metadata": {
        "colab": {
          "base_uri": "https://localhost:8080/"
        },
        "id": "ADY0CsZ0RxVV",
        "outputId": "c6471105-658b-4959-aa25-da28538821b1"
      },
      "execution_count": null,
      "outputs": [
        {
          "output_type": "stream",
          "name": "stdout",
          "text": [
            "{'n_neighbors': 1}\n"
          ]
        }
      ]
    },
    {
      "cell_type": "code",
      "source": [
        "knn_model = KNeighborsClassifier(n_neighbors=1) \n",
        "knn_model, f1_train = train(knn_model,  X_train, y_train, num_classes)\n",
        "f1_test = test(knn_model, X_test, y_test, num_classes)\n",
        "\n",
        "print(f1_test)"
      ],
      "metadata": {
        "colab": {
          "base_uri": "https://localhost:8080/"
        },
        "id": "xZjxxg6xg6pr",
        "outputId": "b26e5f51-e61c-45f6-fe7c-cebfb7b6b65b"
      },
      "execution_count": null,
      "outputs": [
        {
          "output_type": "stream",
          "name": "stdout",
          "text": [
            "47.92944511247789\n"
          ]
        }
      ]
    },
    {
      "cell_type": "code",
      "source": [
        "plot_confusion_matrix(knn_model, X_test, y_test, cmap=plt.cm.Blues)"
      ],
      "metadata": {
        "colab": {
          "base_uri": "https://localhost:8080/",
          "height": 350
        },
        "id": "uSbh3_-ShSRf",
        "outputId": "553eefa5-be41-4cab-a9b4-ba7f671c5466"
      },
      "execution_count": null,
      "outputs": [
        {
          "output_type": "stream",
          "name": "stderr",
          "text": [
            "/usr/local/lib/python3.7/dist-packages/sklearn/utils/deprecation.py:87: FutureWarning: Function plot_confusion_matrix is deprecated; Function `plot_confusion_matrix` is deprecated in 1.0 and will be removed in 1.2. Use one of the class methods: ConfusionMatrixDisplay.from_predictions or ConfusionMatrixDisplay.from_estimator.\n",
            "  warnings.warn(msg, category=FutureWarning)\n"
          ]
        },
        {
          "output_type": "execute_result",
          "data": {
            "text/plain": [
              "<sklearn.metrics._plot.confusion_matrix.ConfusionMatrixDisplay at 0x7f33ab896e50>"
            ]
          },
          "metadata": {},
          "execution_count": 27
        },
        {
          "output_type": "display_data",
          "data": {
            "text/plain": [
              "<Figure size 432x288 with 2 Axes>"
            ],
            "image/png": "[encoded data removed]"
          },
          "metadata": {
            "needs_background": "light"
          }
        }
      ]
    },
    {
      "cell_type": "markdown",
      "source": [
        "## KNN with upsampling"
      ],
      "metadata": {
        "id": "U7JbMMYy-3BO"
      }
    },
    {
      "cell_type": "code",
      "source": [
        "\n",
        "knn_model = KNeighborsClassifier()\n",
        "\n",
        "grid_search = GridSearchCV(estimator = knn_model,  \n",
        "                           param_grid = [{'n_neighbors': [1, 2, 4, 8, 16, 32]}],\n",
        "                           scoring = 'f1_macro',\n",
        "                           cv = 3,\n",
        "                           verbose=0)\n",
        "\n",
        "\n",
        "grid_search.fit(X_train, y_train)\n",
        "\n",
        "print(grid_search.best_params_)"
      ],
      "metadata": {
        "colab": {
          "base_uri": "https://localhost:8080/"
        },
        "id": "-7o3i-sW--cK",
        "outputId": "01186833-9a96-4cc3-8b12-431361f38b58"
      },
      "execution_count": null,
      "outputs": [
        {
          "output_type": "stream",
          "name": "stdout",
          "text": [
            "{'n_neighbors': 1}\n"
          ]
        }
      ]
    },
    {
      "cell_type": "code",
      "source": [
        "knn_model = KNeighborsClassifier(n_neighbors=1) \n",
        "knn_model, f1_train = train(knn_model,  X_train, y_train, num_classes)\n",
        "f1_test = test(knn_model, X_test, y_test, num_classes)\n",
        "\n",
        "print(f1_test)"
      ],
      "metadata": {
        "colab": {
          "base_uri": "https://localhost:8080/"
        },
        "id": "3YQyLgbu--tL",
        "outputId": "cd38132f-dcd5-4513-dcb8-3675f0676fc3"
      },
      "execution_count": null,
      "outputs": [
        {
          "output_type": "stream",
          "name": "stdout",
          "text": [
            "48.08861509940547\n"
          ]
        }
      ]
    },
    {
      "cell_type": "code",
      "source": [
        "plot_confusion_matrix(knn_model, X_test, y_test, cmap=plt.cm.Blues)"
      ],
      "metadata": {
        "colab": {
          "base_uri": "https://localhost:8080/",
          "height": 350
        },
        "id": "50lTi4Yt--5d",
        "outputId": "109763cb-e9ee-4ee4-efc1-dfdbc04352f1"
      },
      "execution_count": null,
      "outputs": [
        {
          "output_type": "stream",
          "name": "stderr",
          "text": [
            "/usr/local/lib/python3.7/dist-packages/sklearn/utils/deprecation.py:87: FutureWarning: Function plot_confusion_matrix is deprecated; Function `plot_confusion_matrix` is deprecated in 1.0 and will be removed in 1.2. Use one of the class methods: ConfusionMatrixDisplay.from_predictions or ConfusionMatrixDisplay.from_estimator.\n",
            "  warnings.warn(msg, category=FutureWarning)\n"
          ]
        },
        {
          "output_type": "execute_result",
          "data": {
            "text/plain": [
              "<sklearn.metrics._plot.confusion_matrix.ConfusionMatrixDisplay at 0x7f33a8d30450>"
            ]
          },
          "metadata": {},
          "execution_count": 41
        },
        {
          "output_type": "display_data",
          "data": {
            "text/plain": [
              "<Figure size 432x288 with 2 Axes>"
            ],
            "image/png": "[encoded data removed]"
          },
          "metadata": {
            "needs_background": "light"
          }
        }
      ]
    },
    {
      "cell_type": "markdown",
      "source": [
        "## SVM without upsampling\n"
      ],
      "metadata": {
        "id": "znd1QV2c8B3R"
      }
    },
    {
      "cell_type": "code",
      "source": [
        "svm_model = SVC()\n",
        "\n",
        "grid_search = GridSearchCV(estimator = svm_model,  \n",
        "                           param_grid = [{'kernel': ['rbf', 'poly', 'linear'],\n",
        "                                          'C': [1, 2, 3, 4]}],\n",
        "                           scoring = 'f1_macro',\n",
        "                           cv = 3,\n",
        "                           verbose=0)\n",
        "\n",
        "grid_search.fit(X_train, y_train)\n",
        "\n",
        "print(grid_search.best_params_)"
      ],
      "metadata": {
        "colab": {
          "base_uri": "https://localhost:8080/"
        },
        "id": "PhDwhZDshovQ",
        "outputId": "0d8275d3-1b28-49a2-c35f-4d58c974b72f"
      },
      "execution_count": null,
      "outputs": [
        {
          "output_type": "stream",
          "name": "stdout",
          "text": [
            "{'C': 1, 'kernel': 'linear'}\n"
          ]
        }
      ]
    },
    {
      "cell_type": "code",
      "source": [
        "svm_model = SVC(kernel='linear', C=1)\n",
        "\n",
        "svm_model, f1_train = train(svm_model,  X_train, y_train, num_classes)\n",
        "f1_test = test(svm_model, X_test, y_test, num_classes)\n",
        "\n",
        "print(f1_test)"
      ],
      "metadata": {
        "colab": {
          "base_uri": "https://localhost:8080/"
        },
        "id": "SmSbpZmij72Z",
        "outputId": "827211d3-11ca-4319-944e-3d5a81eeb575"
      },
      "execution_count": null,
      "outputs": [
        {
          "output_type": "stream",
          "name": "stdout",
          "text": [
            "79.72739975331251\n"
          ]
        }
      ]
    },
    {
      "cell_type": "code",
      "source": [
        "plot_confusion_matrix(svm_model, X_test, y_test, cmap=plt.cm.Blues)"
      ],
      "metadata": {
        "colab": {
          "base_uri": "https://localhost:8080/",
          "height": 350
        },
        "id": "NVFgaaqYkbFs",
        "outputId": "0154b80e-ab10-4268-ee0e-f98ad8d86637"
      },
      "execution_count": null,
      "outputs": [
        {
          "output_type": "stream",
          "name": "stderr",
          "text": [
            "/usr/local/lib/python3.7/dist-packages/sklearn/utils/deprecation.py:87: FutureWarning: Function plot_confusion_matrix is deprecated; Function `plot_confusion_matrix` is deprecated in 1.0 and will be removed in 1.2. Use one of the class methods: ConfusionMatrixDisplay.from_predictions or ConfusionMatrixDisplay.from_estimator.\n",
            "  warnings.warn(msg, category=FutureWarning)\n"
          ]
        },
        {
          "output_type": "execute_result",
          "data": {
            "text/plain": [
              "<sklearn.metrics._plot.confusion_matrix.ConfusionMatrixDisplay at 0x7f33a8ccea90>"
            ]
          },
          "metadata": {},
          "execution_count": 31
        },
        {
          "output_type": "display_data",
          "data": {
            "text/plain": [
              "<Figure size 432x288 with 2 Axes>"
            ],
            "image/png": "[encoded data removed]"
          },
          "metadata": {
            "needs_background": "light"
          }
        }
      ]
    },
    {
      "cell_type": "markdown",
      "source": [
        "## SVM with upsampling"
      ],
      "metadata": {
        "id": "LgjRXVN_A1n2"
      }
    },
    {
      "cell_type": "code",
      "source": [
        "svm_model = SVC()\n",
        "\n",
        "grid_search = GridSearchCV(estimator = svm_model,  \n",
        "                           param_grid = [{'kernel': ['rbf', 'poly', 'linear'],\n",
        "                                          'C': [1, 2, 3, 4]}],\n",
        "                           scoring = 'f1_macro',\n",
        "                           cv = 3,\n",
        "                           verbose=0)\n",
        "\n",
        "grid_search.fit(X_train, y_train)\n",
        "\n",
        "print(grid_search.best_params_)"
      ],
      "metadata": {
        "colab": {
          "base_uri": "https://localhost:8080/"
        },
        "id": "VQoIgoPSA2_G",
        "outputId": "7513e4bd-2bf2-4dcf-f73f-3aa829b2aa2b"
      },
      "execution_count": null,
      "outputs": [
        {
          "output_type": "stream",
          "name": "stdout",
          "text": [
            "{'C': 4, 'kernel': 'rbf'}\n"
          ]
        }
      ]
    },
    {
      "cell_type": "code",
      "source": [
        "svm_model = SVC(kernel='rbf', C=4)\n",
        "\n",
        "svm_model, f1_train = train(svm_model,  X_train, y_train, num_classes)\n",
        "f1_test = test(svm_model, X_test, y_test, num_classes)\n",
        "\n",
        "print(f1_test)"
      ],
      "metadata": {
        "colab": {
          "base_uri": "https://localhost:8080/"
        },
        "id": "QcQ2lVxJA71m",
        "outputId": "8b003900-70d5-4001-995f-1eedcfbc59f4"
      },
      "execution_count": null,
      "outputs": [
        {
          "output_type": "stream",
          "name": "stdout",
          "text": [
            "72.7642873340673\n"
          ]
        }
      ]
    },
    {
      "cell_type": "code",
      "source": [
        "plot_confusion_matrix(svm_model, X_test, y_test, cmap=plt.cm.Blues)"
      ],
      "metadata": {
        "colab": {
          "base_uri": "https://localhost:8080/",
          "height": 350
        },
        "id": "nI28R03xA_e3",
        "outputId": "2cf93ce1-b5f9-4072-cdbf-43d347463bb8"
      },
      "execution_count": null,
      "outputs": [
        {
          "output_type": "stream",
          "name": "stderr",
          "text": [
            "/usr/local/lib/python3.7/dist-packages/sklearn/utils/deprecation.py:87: FutureWarning: Function plot_confusion_matrix is deprecated; Function `plot_confusion_matrix` is deprecated in 1.0 and will be removed in 1.2. Use one of the class methods: ConfusionMatrixDisplay.from_predictions or ConfusionMatrixDisplay.from_estimator.\n",
            "  warnings.warn(msg, category=FutureWarning)\n"
          ]
        },
        {
          "output_type": "execute_result",
          "data": {
            "text/plain": [
              "<sklearn.metrics._plot.confusion_matrix.ConfusionMatrixDisplay at 0x7f33a89a9890>"
            ]
          },
          "metadata": {},
          "execution_count": 46
        },
        {
          "output_type": "display_data",
          "data": {
            "text/plain": [
              "<Figure size 432x288 with 2 Axes>"
            ],
            "image/png": "[encoded data removed]"
          },
          "metadata": {
            "needs_background": "light"
          }
        }
      ]
    }
  ],
  "metadata": {
    "kernelspec": {
      "display_name": "Python 3",
      "language": "python",
      "name": "python3"
    },
    "language_info": {
      "codemirror_mode": {
        "name": "ipython",
        "version": 2
      },
      "file_extension": ".py",
      "mimetype": "text/x-python",
      "name": "python",
      "nbconvert_exporter": "python",
      "pygments_lexer": "ipython2",
      "version": "2.7.6"
    },
    "colab": {
      "provenance": [],
      "collapsed_sections": []
    }
  },
  "nbformat": 4,
  "nbformat_minor": 0
}